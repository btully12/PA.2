{
 "cells": [
  {
   "cell_type": "markdown",
   "id": "413a5185",
   "metadata": {},
   "source": [
    "# File name: Programming Assignment 2\n",
    "## Author: Brett Tully \n",
    "### Python Version: 3\n",
    "#### Class: CS-150-02\n",
    "##### Semester: Fall '21 \n"
   ]
  },
  {
   "cell_type": "code",
   "execution_count": 1,
   "id": "febc6a23",
   "metadata": {},
   "outputs": [
    {
     "name": "stdout",
     "output_type": "stream",
     "text": [
      "0\n",
      "1\n",
      "2\n",
      "3\n",
      "4\n",
      "5\n",
      "6 *\n",
      "7\n",
      "8\n",
      "9 *\n",
      "10\n",
      "11\n",
      "12 *\n",
      "13\n",
      "14\n",
      "15 *\n",
      "16\n",
      "17\n",
      "18 *\n",
      "19\n",
      "20\n",
      "21 *\n",
      "22\n",
      "23\n",
      "24 *\n",
      "25\n",
      "26\n",
      "27 *\n",
      "28\n",
      "29\n",
      "30 *\n",
      "31\n",
      "32\n",
      "33 *\n",
      "34\n",
      "35\n",
      "36 *\n",
      "37\n",
      "38\n",
      "39 *\n",
      "40\n",
      "41\n",
      "42 *\n",
      "43\n",
      "44\n",
      "45 *\n",
      "46\n",
      "47\n",
      "48 *\n",
      "49\n",
      "50\n",
      "51 *\n",
      "52\n",
      "53\n",
      "54 *\n",
      "55\n",
      "56\n",
      "57 *\n",
      "58\n",
      "59\n",
      "60 *\n",
      "61\n",
      "62\n",
      "63 *\n",
      "64\n",
      "65\n",
      "66 *\n",
      "67\n",
      "68\n",
      "69 *\n",
      "70\n",
      "71\n",
      "72 *\n",
      "73\n",
      "74\n",
      "75 *\n",
      "76\n",
      "77\n",
      "78 *\n",
      "79\n",
      "80\n",
      "81 *\n",
      "82\n",
      "83\n",
      "84 *\n",
      "85\n",
      "86\n",
      "87 *\n",
      "88\n",
      "89\n",
      "90 *\n",
      "91\n",
      "92\n",
      "93 *\n",
      "94\n",
      "95\n",
      "96 *\n",
      "97\n",
      "98\n",
      "99 *\n"
     ]
    }
   ],
   "source": [
    "for x in range(100): \n",
    "        if x%3==0 and x>3:\n",
    "            print(x, \"*\")\n",
    "        else:\n",
    "            print(x)"
   ]
  },
  {
   "cell_type": "code",
   "execution_count": 10,
   "id": "4a299ea6",
   "metadata": {},
   "outputs": [
    {
     "name": "stdout",
     "output_type": "stream",
     "text": [
      "What is the subject's age?:  40\n",
      "Adult\n",
      "enter an age:  23\n",
      "Adult\n",
      "enter an age:  28\n",
      "Adult\n",
      "enter an age:  17\n",
      "Minor\n",
      "enter an age:  88\n",
      "Senior Citizen\n",
      "enter an age:  0\n"
     ]
    }
   ],
   "source": [
    "a=int(input(\"What is the subject's age?:  \")) \n",
    "while a!=0: \n",
    "    if a <18: \n",
    "        print(\"Minor\")\n",
    "    elif a>=18 and a<64:\n",
    "        print(\"Adult\")\n",
    "    else: \n",
    "        print(\"Senior Citizen\")\n",
    "    a=int(input(\"enter an age:  \"))"
   ]
  },
  {
   "cell_type": "code",
   "execution_count": 22,
   "id": "e084b1fb",
   "metadata": {},
   "outputs": [
    {
     "name": "stdout",
     "output_type": "stream",
     "text": [
      "65  : Senior Citizen\n",
      "78  : Senior Citizen\n",
      "34  : Adult\n",
      "56  : Adult\n",
      "12  : Minor\n",
      "9  : Minor\n",
      "43  : Adult\n",
      "67  : Senior Citizen\n"
     ]
    }
   ],
   "source": [
    "age_list=[65,78,34,56,12,9,43,67] \n",
    "for num in age_list: \n",
    "    if num <18: \n",
    "        print(num,\" : Minor\") \n",
    "    elif num>18 and num<64: \n",
    "        print(num,\" : Adult\") \n",
    "    else: \n",
    "        print(num,\" : Senior Citizen\")\n",
    "        \n"
   ]
  },
  {
   "cell_type": "code",
   "execution_count": null,
   "id": "9b1de484",
   "metadata": {},
   "outputs": [],
   "source": []
  },
  {
   "cell_type": "code",
   "execution_count": null,
   "id": "558f7149",
   "metadata": {},
   "outputs": [],
   "source": []
  }
 ],
 "metadata": {
  "kernelspec": {
   "display_name": "Python 3",
   "language": "python",
   "name": "python3"
  },
  "language_info": {
   "codemirror_mode": {
    "name": "ipython",
    "version": 3
   },
   "file_extension": ".py",
   "mimetype": "text/x-python",
   "name": "python",
   "nbconvert_exporter": "python",
   "pygments_lexer": "ipython3",
   "version": "3.8.8"
  }
 },
 "nbformat": 4,
 "nbformat_minor": 5
}
